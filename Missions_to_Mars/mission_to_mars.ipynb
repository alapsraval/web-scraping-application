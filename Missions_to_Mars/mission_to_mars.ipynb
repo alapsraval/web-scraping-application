{
 "cells": [
  {
   "cell_type": "markdown",
   "metadata": {},
   "source": [
    "# Step 1 - Scraping"
   ]
  },
  {
   "cell_type": "code",
   "execution_count": 1,
   "metadata": {},
   "outputs": [],
   "source": [
    "# Dependencies\n",
    "from splinter import Browser\n",
    "from bs4 import BeautifulSoup as bs\n",
    "import requests\n",
    "import pandas as pd\n",
    "import time"
   ]
  },
  {
   "cell_type": "markdown",
   "metadata": {},
   "source": [
    "### NASA Mars News"
   ]
  },
  {
   "cell_type": "code",
   "execution_count": 2,
   "metadata": {},
   "outputs": [],
   "source": [
    "# URL of page to be scraped\n",
    "mars_news_url = 'https://mars.nasa.gov/news/'"
   ]
  },
  {
   "cell_type": "code",
   "execution_count": 3,
   "metadata": {},
   "outputs": [],
   "source": [
    "executable_path = {'executable_path': '/usr/local/bin/chromedriver'}\n",
    "browser = Browser('chrome', **executable_path, headless=False)"
   ]
  },
  {
   "cell_type": "code",
   "execution_count": 4,
   "metadata": {},
   "outputs": [
    {
     "name": "stdout",
     "output_type": "stream",
     "text": [
      "News Headline:  Perseverance Scientists Train for Mars in Nevada Desert\n",
      "-------------\n",
      "Team members searched for signs of ancient microscopic life there, just as NASA's latest rover will on the Red Planet next year. \n",
      "\n"
     ]
    }
   ],
   "source": [
    "browser.visit(mars_news_url)\n",
    "if browser.is_element_present_by_css('li.slide', wait_time=10):  \n",
    "    html = browser.html\n",
    "    soup = bs(html, 'html.parser')\n",
    "    slides = soup.find_all('li', class_='slide')\n",
    "    news_title = slides[0].find('div',class_='content_title').text\n",
    "    news_p = slides[0].find('div',class_='article_teaser_body').text\n",
    "    print('News Headline: ', news_title)\n",
    "    print('-------------')\n",
    "    print(news_p,'\\n')"
   ]
  },
  {
   "cell_type": "markdown",
   "metadata": {},
   "source": [
    "### JPL Mars Space Images - Featured Image"
   ]
  },
  {
   "cell_type": "code",
   "execution_count": 5,
   "metadata": {},
   "outputs": [],
   "source": [
    "mars_jpl_url = 'https://www.jpl.nasa.gov/spaceimages/?search=&category=Mars'"
   ]
  },
  {
   "cell_type": "code",
   "execution_count": 6,
   "metadata": {},
   "outputs": [
    {
     "name": "stderr",
     "output_type": "stream",
     "text": [
      "/Users/alap/opt/anaconda3/envs/PythonData/lib/python3.7/site-packages/splinter/driver/webdriver/__init__.py:528: FutureWarning: browser.find_link_by_partial_text is deprecated. Use browser.links.find_by_partial_text instead.\n",
      "  FutureWarning,\n"
     ]
    },
    {
     "name": "stdout",
     "output_type": "stream",
     "text": [
      "Featured Image URL:  https://www.jpl.nasa.gov/spaceimages/images/largesize/PIA19108_hires.jpg\n",
      "Page URL:  https://www.jpl.nasa.gov/spaceimages/?search=&category=Mars\n"
     ]
    }
   ],
   "source": [
    "browser.visit(mars_jpl_url)\n",
    "\n",
    "if browser.is_element_present_by_css('section.primary_media_feature', wait_time=10):\n",
    "    browser.click_link_by_partial_text('FULL IMAGE')\n",
    "    browser.click_link_by_partial_text('more info')\n",
    "    html_jpl = browser.html\n",
    "    soup_jpl = bs(html_jpl, 'html.parser')\n",
    "    browser.find_by_css('a img.main_image').click()\n",
    "    time.sleep(1)\n",
    "    featured_image_url = browser.url # read current page url\n",
    "    #option 2    \n",
    "    #featured_image_url = 'https://www.jpl.nasa.gov' + soup_jpl.find('img',class_='main_image').get('src')\n",
    "    #option 3\n",
    "    #images = soup_jpl.find_all('div', class_='download_tiff')\n",
    "    #featured_image_url = images[1].a.get('href')\n",
    "    print('Featured Image URL: ', featured_image_url)\n",
    "    print('Page URL: ', mars_jpl_url)"
   ]
  },
  {
   "cell_type": "markdown",
   "metadata": {},
   "source": [
    "### Mars Weather"
   ]
  },
  {
   "cell_type": "code",
   "execution_count": 7,
   "metadata": {},
   "outputs": [],
   "source": [
    "mars_weather_url = 'https://twitter.com/marswxreport?lang=en'"
   ]
  },
  {
   "cell_type": "code",
   "execution_count": 9,
   "metadata": {},
   "outputs": [],
   "source": [
    "browser.visit(mars_weather_url)\n",
    "if browser.is_element_present_by_css('section article', wait_time=10):\n",
    "    html_weather = browser.html\n",
    "    soup_weather = bs(html_weather, 'html.parser')\n",
    "    latest_tweet = browser.find_by_css('[data-testid=\"tweet\"]')[0]\n",
    "    mars_weather = latest_tweet.find_by_css('div.r-jwli3a.r-16dba41.r-bnwqim').text\n",
    "    print('Latest Tweet')\n",
    "    print('------------')\n",
    "    print(mars_weather)"
   ]
  },
  {
   "cell_type": "code",
   "execution_count": 10,
   "metadata": {},
   "outputs": [
    {
     "data": {
      "text/plain": [
       "'InSight sol 512 (2020-05-05) low -92.9ºC (-135.2ºF) high -3.1ºC (26.4ºF)\\nwinds from the SW at 4.8 m/s (10.7 mph) gusting to 19.2 m/s (42.9 mph)\\npressure at 6.80 hPa'"
      ]
     },
     "execution_count": 10,
     "metadata": {},
     "output_type": "execute_result"
    }
   ],
   "source": [
    "html_weather = requests.get(mars_weather_url)\n",
    "soup_weather = bs(html_weather.text, 'html.parser')\n",
    "\n",
    "tweet_timestamp_container = soup_weather.find('div', class_=\"stream-item-header\")\n",
    "tweet_timestamp = tweet_timestamp_container.find('a', class_=\"tweet-timestamp\")['title']\n",
    "tweet_container = soup_weather.find('div', class_=\"js-tweet-text-container\")\n",
    "latest_tweet = tweet_container.find('p', class_=\"TweetTextSize TweetTextSize--normal js-tweet-text tweet-text\")\n",
    "mars_weather = latest_tweet.find_all(text=True)[0]\n",
    "mars_weather"
   ]
  },
  {
   "cell_type": "markdown",
   "metadata": {},
   "source": [
    "### Mars Facts"
   ]
  },
  {
   "cell_type": "code",
   "execution_count": 11,
   "metadata": {},
   "outputs": [],
   "source": [
    "mars_facts_url = 'https://space-facts.com/mars/'"
   ]
  },
  {
   "cell_type": "code",
   "execution_count": 14,
   "metadata": {},
   "outputs": [
    {
     "data": {
      "text/plain": [
       "'<table border=\"0\" class=\"dataframe table table-bordered table-sm\">\\n  <thead>\\n    <tr style=\"text-align: initial;\">\\n      <th>Value</th>\\n    </tr>\\n  </thead>\\n  <tbody>\\n    <tr>\\n      <td>6,792 km</td>\\n    </tr>\\n    <tr>\\n      <td>6,752 km</td>\\n    </tr>\\n    <tr>\\n      <td>6.39 × 10^23 kg (0.11 Earths)</td>\\n    </tr>\\n    <tr>\\n      <td>2 (Phobos &amp; Deimos)</td>\\n    </tr>\\n    <tr>\\n      <td>227,943,824 km (1.38 AU)</td>\\n    </tr>\\n    <tr>\\n      <td>687 days (1.9 years)</td>\\n    </tr>\\n    <tr>\\n      <td>-87 to -5 °C</td>\\n    </tr>\\n    <tr>\\n      <td>2nd millennium BC</td>\\n    </tr>\\n    <tr>\\n      <td>Egyptian astronomers</td>\\n    </tr>\\n  </tbody>\\n</table>'"
      ]
     },
     "execution_count": 14,
     "metadata": {},
     "output_type": "execute_result"
    }
   ],
   "source": [
    "tables = pd.read_html(mars_facts_url)\n",
    "df = tables[0]\n",
    "df.columns = ['Fact', 'Value']\n",
    "df['Fact'] = df['Fact'].str.replace(':', '') # remove ':' from Fact column\n",
    "df.set_index('Fact', inplace=True)\n",
    "# df = df.rename_axis(None) # Remove Column Header \"Fact\"\n",
    "html_table = df.to_html(classes=\"table table-bordered table-sm\", border=0, index=False, justify='initial')\n",
    "html_table"
   ]
  },
  {
   "cell_type": "markdown",
   "metadata": {},
   "source": [
    "### Mars Hemispheres"
   ]
  },
  {
   "cell_type": "code",
   "execution_count": 15,
   "metadata": {},
   "outputs": [],
   "source": [
    "mars_hemi_url = 'https://astrogeology.usgs.gov/search/results?q=hemisphere+enhanced&k1=target&v1=Mars'"
   ]
  },
  {
   "cell_type": "markdown",
   "metadata": {},
   "source": [
    "Save both the image url string for the full resolution hemisphere image, and the Hemisphere title containing the hemisphere name. Use a Python dictionary to store the data using the keys img_url and title."
   ]
  },
  {
   "cell_type": "code",
   "execution_count": 16,
   "metadata": {},
   "outputs": [
    {
     "name": "stdout",
     "output_type": "stream",
     "text": [
      "Title: Cerberus Hemisphere Enhanced\n",
      "Image URL: http://astropedia.astrogeology.usgs.gov/download/Mars/Viking/cerberus_enhanced.tif/full.jpg\n",
      "Title: Schiaparelli Hemisphere Enhanced\n",
      "Image URL: http://astropedia.astrogeology.usgs.gov/download/Mars/Viking/schiaparelli_enhanced.tif/full.jpg\n",
      "Title: Syrtis Major Hemisphere Enhanced\n",
      "Image URL: http://astropedia.astrogeology.usgs.gov/download/Mars/Viking/syrtis_major_enhanced.tif/full.jpg\n",
      "Title: Valles Marineris Hemisphere Enhanced\n",
      "Image URL: http://astropedia.astrogeology.usgs.gov/download/Mars/Viking/valles_marineris_enhanced.tif/full.jpg\n"
     ]
    },
    {
     "data": {
      "text/plain": [
       "[{'title': 'Cerberus Hemisphere Enhanced',\n",
       "  'img_url': 'http://astropedia.astrogeology.usgs.gov/download/Mars/Viking/cerberus_enhanced.tif/full.jpg',\n",
       "  'page_url': 'https://astrogeology.usgs.gov/search/map/Mars/Viking/cerberus_enhanced'},\n",
       " {'title': 'Schiaparelli Hemisphere Enhanced',\n",
       "  'img_url': 'http://astropedia.astrogeology.usgs.gov/download/Mars/Viking/schiaparelli_enhanced.tif/full.jpg',\n",
       "  'page_url': 'https://astrogeology.usgs.gov/search/map/Mars/Viking/schiaparelli_enhanced'},\n",
       " {'title': 'Syrtis Major Hemisphere Enhanced',\n",
       "  'img_url': 'http://astropedia.astrogeology.usgs.gov/download/Mars/Viking/syrtis_major_enhanced.tif/full.jpg',\n",
       "  'page_url': 'https://astrogeology.usgs.gov/search/map/Mars/Viking/syrtis_major_enhanced'},\n",
       " {'title': 'Valles Marineris Hemisphere Enhanced',\n",
       "  'img_url': 'http://astropedia.astrogeology.usgs.gov/download/Mars/Viking/valles_marineris_enhanced.tif/full.jpg',\n",
       "  'page_url': 'https://astrogeology.usgs.gov/search/map/Mars/Viking/valles_marineris_enhanced'}]"
      ]
     },
     "execution_count": 16,
     "metadata": {},
     "output_type": "execute_result"
    }
   ],
   "source": [
    "browser.visit(mars_hemi_url)\n",
    "html_hemi = browser.html\n",
    "soup_hemi = bs(html_hemi, 'html.parser')\n",
    "results = soup_hemi.find_all('div',class_='item')\n",
    "\n",
    "hemisphere_image_urls = []\n",
    "for item in results:\n",
    "    title = item.find('h3').text\n",
    "    print(f'Title: {title}')\n",
    "    browser.click_link_by_partial_text(title)\n",
    "#     time.sleep(1)\n",
    "    html_subpage = browser.html\n",
    "    soup_subpage = bs(html_subpage, 'html.parser')\n",
    "    page_url = browser.url\n",
    "    img_url = soup_subpage.find('div', 'downloads').ul.li.a['href']\n",
    "    print(f'Image URL: {img_url}')\n",
    "    browser.back()\n",
    "    hemisphere_image_urls.append({\"title\": title, \"img_url\": img_url, \"page_url\": page_url})\n",
    "    \n",
    "hemisphere_image_urls"
   ]
  },
  {
   "cell_type": "code",
   "execution_count": null,
   "metadata": {},
   "outputs": [],
   "source": []
  }
 ],
 "metadata": {
  "kernelspec": {
   "display_name": "Python 3.7.5 64-bit ('PythonData': conda)",
   "language": "python",
   "name": "python37564bitpythondatacondab9bdebea85ac40f68e4fab17f51cd8a2"
  },
  "language_info": {
   "codemirror_mode": {
    "name": "ipython",
    "version": 3
   },
   "file_extension": ".py",
   "mimetype": "text/x-python",
   "name": "python",
   "nbconvert_exporter": "python",
   "pygments_lexer": "ipython3",
   "version": "3.7.5"
  }
 },
 "nbformat": 4,
 "nbformat_minor": 4
}
